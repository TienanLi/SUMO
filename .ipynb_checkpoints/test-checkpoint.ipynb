{
 "cells": [
  {
   "cell_type": "code",
   "execution_count": 2,
   "metadata": {},
   "outputs": [],
   "source": [
    "import sys\n",
    "import os\n",
    "import pandas as pd\n",
    "from collections import defaultdict\n",
    "\n",
    "os.environ['SUMO_HOME'] = 'C:\\\\Program Files (x86)\\\\Eclipse\\\\Sumo\\\\'\n",
    "if 'SUMO_HOME' in os.environ:\n",
    "    tools = os.path.join(os.environ['SUMO_HOME'], 'tools')\n",
    "    sys.path.append(tools)\n",
    "else:\n",
    "    sys.exit(\"please declare environment variable 'SUMO_HOME'\")\n",
    "from sumolib import checkBinary\n",
    "import traci\n",
    "\n"
   ]
  },
  {
   "cell_type": "code",
   "execution_count": 4,
   "metadata": {},
   "outputs": [],
   "source": [
    "sumoBinary = checkBinary('sumo-gui')\n",
    "sumoCmd = [sumoBinary, \"-c\", \"test.sumocfg\"]"
   ]
  },
  {
   "cell_type": "code",
   "execution_count": 5,
   "metadata": {},
   "outputs": [
    {
     "name": "stderr",
     "output_type": "stream",
     "text": [
      "C:\\Program Files (x86)\\Eclipse\\Sumo\\tools\\traci\\main.py:162: UserWarning: Could not connect to TraCI server using port 53137. Retrying with different port.\n",
      "  warnings.warn(\"Could not connect to TraCI server using port %s. Retrying with different port.\" % sumoPort)\n",
      "C:\\Program Files (x86)\\Eclipse\\Sumo\\tools\\traci\\main.py:162: UserWarning: Could not connect to TraCI server using port 53139. Retrying with different port.\n",
      "  warnings.warn(\"Could not connect to TraCI server using port %s. Retrying with different port.\" % sumoPort)\n",
      "C:\\Program Files (x86)\\Eclipse\\Sumo\\tools\\traci\\main.py:162: UserWarning: Could not connect to TraCI server using port 53141. Retrying with different port.\n",
      "  warnings.warn(\"Could not connect to TraCI server using port %s. Retrying with different port.\" % sumoPort)\n",
      "C:\\Program Files (x86)\\Eclipse\\Sumo\\tools\\traci\\main.py:162: UserWarning: Could not connect to TraCI server using port 53143. Retrying with different port.\n",
      "  warnings.warn(\"Could not connect to TraCI server using port %s. Retrying with different port.\" % sumoPort)\n",
      "C:\\Program Files (x86)\\Eclipse\\Sumo\\tools\\traci\\main.py:162: UserWarning: Could not connect to TraCI server using port 53145. Retrying with different port.\n",
      "  warnings.warn(\"Could not connect to TraCI server using port %s. Retrying with different port.\" % sumoPort)\n",
      "C:\\Program Files (x86)\\Eclipse\\Sumo\\tools\\traci\\main.py:162: UserWarning: Could not connect to TraCI server using port 53148. Retrying with different port.\n",
      "  warnings.warn(\"Could not connect to TraCI server using port %s. Retrying with different port.\" % sumoPort)\n",
      "C:\\Program Files (x86)\\Eclipse\\Sumo\\tools\\traci\\main.py:162: UserWarning: Could not connect to TraCI server using port 53150. Retrying with different port.\n",
      "  warnings.warn(\"Could not connect to TraCI server using port %s. Retrying with different port.\" % sumoPort)\n",
      "C:\\Program Files (x86)\\Eclipse\\Sumo\\tools\\traci\\main.py:162: UserWarning: Could not connect to TraCI server using port 53153. Retrying with different port.\n",
      "  warnings.warn(\"Could not connect to TraCI server using port %s. Retrying with different port.\" % sumoPort)\n",
      "C:\\Program Files (x86)\\Eclipse\\Sumo\\tools\\traci\\main.py:162: UserWarning: Could not connect to TraCI server using port 53156. Retrying with different port.\n",
      "  warnings.warn(\"Could not connect to TraCI server using port %s. Retrying with different port.\" % sumoPort)\n",
      "C:\\Program Files (x86)\\Eclipse\\Sumo\\tools\\traci\\main.py:162: UserWarning: Could not connect to TraCI server using port 53158. Retrying with different port.\n",
      "  warnings.warn(\"Could not connect to TraCI server using port %s. Retrying with different port.\" % sumoPort)\n",
      "C:\\Program Files (x86)\\Eclipse\\Sumo\\tools\\traci\\main.py:162: UserWarning: Could not connect to TraCI server using port 53160. Retrying with different port.\n",
      "  warnings.warn(\"Could not connect to TraCI server using port %s. Retrying with different port.\" % sumoPort)\n"
     ]
    },
    {
     "ename": "FatalTraCIError",
     "evalue": "Could not connect.",
     "output_type": "error",
     "traceback": [
      "\u001b[1;31m---------------------------------------------------------------------------\u001b[0m",
      "\u001b[1;31mFatalTraCIError\u001b[0m                           Traceback (most recent call last)",
      "\u001b[1;32m<ipython-input-5-306d9fba51e3>\u001b[0m in \u001b[0;36m<module>\u001b[1;34m\u001b[0m\n\u001b[0;32m      1\u001b[0m \u001b[0moutput_path\u001b[0m \u001b[1;33m=\u001b[0m \u001b[1;34m'simulation_data_test.csv'\u001b[0m\u001b[1;33m\u001b[0m\u001b[1;33m\u001b[0m\u001b[0m\n\u001b[1;32m----> 2\u001b[1;33m \u001b[0mtraci\u001b[0m\u001b[1;33m.\u001b[0m\u001b[0mstart\u001b[0m\u001b[1;33m(\u001b[0m\u001b[1;33m[\u001b[0m\u001b[0msumoBinary\u001b[0m\u001b[1;33m,\u001b[0m \u001b[1;34m\"-c\"\u001b[0m\u001b[1;33m,\u001b[0m \u001b[1;34m\"--step-length 0.1\"\u001b[0m\u001b[1;33m,\u001b[0m \u001b[1;34m\"test.sumocfg\"\u001b[0m\u001b[1;33m]\u001b[0m\u001b[1;33m)\u001b[0m\u001b[1;33m\u001b[0m\u001b[1;33m\u001b[0m\u001b[0m\n\u001b[0m\u001b[0;32m      3\u001b[0m \u001b[1;33m\u001b[0m\u001b[0m\n\u001b[0;32m      4\u001b[0m \u001b[0mdata\u001b[0m \u001b[1;33m=\u001b[0m \u001b[0mdefaultdict\u001b[0m\u001b[1;33m(\u001b[0m\u001b[0mlist\u001b[0m\u001b[1;33m)\u001b[0m\u001b[1;33m\u001b[0m\u001b[1;33m\u001b[0m\u001b[0m\n\u001b[0;32m      5\u001b[0m \u001b[1;33m\u001b[0m\u001b[0m\n",
      "\u001b[1;32mC:\\Program Files (x86)\\Eclipse\\Sumo\\tools\\traci\\main.py\u001b[0m in \u001b[0;36mstart\u001b[1;34m(cmd, port, numRetries, label, verbose, traceFile, traceGetters, stdout)\u001b[0m\n\u001b[0;32m    162\u001b[0m             \u001b[0mwarnings\u001b[0m\u001b[1;33m.\u001b[0m\u001b[0mwarn\u001b[0m\u001b[1;33m(\u001b[0m\u001b[1;34m\"Could not connect to TraCI server using port %s. Retrying with different port.\"\u001b[0m \u001b[1;33m%\u001b[0m \u001b[0msumoPort\u001b[0m\u001b[1;33m)\u001b[0m\u001b[1;33m\u001b[0m\u001b[1;33m\u001b[0m\u001b[0m\n\u001b[0;32m    163\u001b[0m             \u001b[0mnumRetries\u001b[0m \u001b[1;33m-=\u001b[0m \u001b[1;36m1\u001b[0m\u001b[1;33m\u001b[0m\u001b[1;33m\u001b[0m\u001b[0m\n\u001b[1;32m--> 164\u001b[1;33m     \u001b[1;32mraise\u001b[0m \u001b[0mFatalTraCIError\u001b[0m\u001b[1;33m(\u001b[0m\u001b[1;34m\"Could not connect.\"\u001b[0m\u001b[1;33m)\u001b[0m\u001b[1;33m\u001b[0m\u001b[1;33m\u001b[0m\u001b[0m\n\u001b[0m\u001b[0;32m    165\u001b[0m \u001b[1;33m\u001b[0m\u001b[0m\n\u001b[0;32m    166\u001b[0m \u001b[1;33m\u001b[0m\u001b[0m\n",
      "\u001b[1;31mFatalTraCIError\u001b[0m: Could not connect."
     ]
    }
   ],
   "source": [
    "output_path = 'simulation_data_test.csv'\n",
    "traci.start([sumoBinary, \"-c\", \"--step-length 0.1\", \"test.sumocfg\"])\n",
    "\n",
    "data = defaultdict(list)\n",
    "\n",
    "# simulation logic \n",
    "while traci.simulation.getMinExpectedNumber() > 0:\n",
    "    traci.simulationStep()\n",
    "    veh_ids = traci.vehicle.getIDList()\n",
    "    \n",
    "    \n",
    "    # save to simulation data to file    \n",
    "    curTime = traci.getTime()\n",
    "    for veh_id in veh_ids:\n",
    "        data.append((veh_id, curTime, veh_id.getLaneID(), veh_id.getPosition(), veh_id.getSpeed()))\n",
    "\n",
    "df = pd.DataFrame(data,columns=column_name)\n",
    "df.to_csv(output_path)\n",
    "\n",
    "traci.close()\n",
    "sys.stdout.flush()"
   ]
  },
  {
   "cell_type": "code",
   "execution_count": null,
   "metadata": {},
   "outputs": [],
   "source": []
  },
  {
   "cell_type": "code",
   "execution_count": null,
   "metadata": {},
   "outputs": [],
   "source": []
  }
 ],
 "metadata": {
  "kernelspec": {
   "display_name": "Python 3",
   "language": "python",
   "name": "python3"
  },
  "language_info": {
   "codemirror_mode": {
    "name": "ipython",
    "version": 3
   },
   "file_extension": ".py",
   "mimetype": "text/x-python",
   "name": "python",
   "nbconvert_exporter": "python",
   "pygments_lexer": "ipython3",
   "version": "3.7.2"
  },
  "varInspector": {
   "cols": {
    "lenName": 16,
    "lenType": 16,
    "lenVar": 40
   },
   "kernels_config": {
    "python": {
     "delete_cmd_postfix": "",
     "delete_cmd_prefix": "del ",
     "library": "var_list.py",
     "varRefreshCmd": "print(var_dic_list())"
    },
    "r": {
     "delete_cmd_postfix": ") ",
     "delete_cmd_prefix": "rm(",
     "library": "var_list.r",
     "varRefreshCmd": "cat(var_dic_list()) "
    }
   },
   "types_to_exclude": [
    "module",
    "function",
    "builtin_function_or_method",
    "instance",
    "_Feature"
   ],
   "window_display": false
  }
 },
 "nbformat": 4,
 "nbformat_minor": 4
}
