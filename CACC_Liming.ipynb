{
 "cells": [
  {
   "cell_type": "code",
   "execution_count": 1,
   "metadata": {},
   "outputs": [],
   "source": [
    "# miny problem: speed limit prevent followers to follow the front vehicle closely"
   ]
  },
  {
   "cell_type": "code",
   "execution_count": 2,
   "metadata": {},
   "outputs": [],
   "source": [
    "import sys\n",
    "import os\n",
    "\n",
    "import pandas as pd\n",
    "\n",
    "os.environ['SUMO_HOME'] = 'C:\\\\Program Files (x86)\\\\Eclipse\\\\Sumo\\\\'\n",
    "if 'SUMO_HOME' in os.environ:\n",
    "    tools = os.path.join(os.environ['SUMO_HOME'], 'tools')\n",
    "    sys.path.append(tools)\n",
    "else:\n",
    "    sys.exit(\"please declare environment variable 'SUMO_HOME'\")\n",
    "from sumolib import checkBinary\n",
    "import traci\n",
    "import traci.constants as tc\n",
    "\n",
    "# from helper import make_complete_speed_profile, import_HighD_speed_profile"
   ]
  },
  {
   "cell_type": "code",
   "execution_count": 3,
   "metadata": {},
   "outputs": [],
   "source": [
    "sumoBinary = checkBinary('sumo-gui')\n",
    "sumoCmd = [sumoBinary, \"-c\", \"singlelink.sumocfg.xml\"]"
   ]
  },
  {
   "cell_type": "code",
   "execution_count": 4,
   "metadata": {},
   "outputs": [
    {
     "ename": "FatalTraCIError",
     "evalue": "Not connected.",
     "output_type": "error",
     "traceback": [
      "\u001b[1;31m---------------------------------------------------------------------------\u001b[0m",
      "\u001b[1;31mFatalTraCIError\u001b[0m                           Traceback (most recent call last)",
      "\u001b[1;32m<ipython-input-4-58920bab68aa>\u001b[0m in \u001b[0;36m<module>\u001b[1;34m\u001b[0m\n\u001b[1;32m----> 1\u001b[1;33m \u001b[0mtraci\u001b[0m\u001b[1;33m.\u001b[0m\u001b[0mclose\u001b[0m\u001b[1;33m(\u001b[0m\u001b[1;33m)\u001b[0m\u001b[1;33m\u001b[0m\u001b[1;33m\u001b[0m\u001b[0m\n\u001b[0m",
      "\u001b[1;32mC:\\Program Files (x86)\\Eclipse\\Sumo\\tools\\traci\\main.py\u001b[0m in \u001b[0;36mclose\u001b[1;34m(wait)\u001b[0m\n\u001b[0;32m    251\u001b[0m \u001b[1;32mdef\u001b[0m \u001b[0mclose\u001b[0m\u001b[1;33m(\u001b[0m\u001b[0mwait\u001b[0m\u001b[1;33m=\u001b[0m\u001b[1;32mTrue\u001b[0m\u001b[1;33m)\u001b[0m\u001b[1;33m:\u001b[0m\u001b[1;33m\u001b[0m\u001b[1;33m\u001b[0m\u001b[0m\n\u001b[0;32m    252\u001b[0m     \u001b[1;32mif\u001b[0m \u001b[1;34m\"\"\u001b[0m \u001b[1;32mnot\u001b[0m \u001b[1;32min\u001b[0m \u001b[0m_connections\u001b[0m\u001b[1;33m:\u001b[0m\u001b[1;33m\u001b[0m\u001b[1;33m\u001b[0m\u001b[0m\n\u001b[1;32m--> 253\u001b[1;33m         \u001b[1;32mraise\u001b[0m \u001b[0mFatalTraCIError\u001b[0m\u001b[1;33m(\u001b[0m\u001b[1;34m\"Not connected.\"\u001b[0m\u001b[1;33m)\u001b[0m\u001b[1;33m\u001b[0m\u001b[1;33m\u001b[0m\u001b[0m\n\u001b[0m\u001b[0;32m    254\u001b[0m     \u001b[0m_connections\u001b[0m\u001b[1;33m[\u001b[0m\u001b[1;34m\"\"\u001b[0m\u001b[1;33m]\u001b[0m\u001b[1;33m.\u001b[0m\u001b[0mclose\u001b[0m\u001b[1;33m(\u001b[0m\u001b[0mwait\u001b[0m\u001b[1;33m)\u001b[0m\u001b[1;33m\u001b[0m\u001b[1;33m\u001b[0m\u001b[0m\n\u001b[0;32m    255\u001b[0m     \u001b[1;32mdel\u001b[0m \u001b[0m_connections\u001b[0m\u001b[1;33m[\u001b[0m\u001b[0m_currentLabel\u001b[0m\u001b[1;33m[\u001b[0m\u001b[1;36m0\u001b[0m\u001b[1;33m]\u001b[0m\u001b[1;33m]\u001b[0m\u001b[1;33m\u001b[0m\u001b[1;33m\u001b[0m\u001b[0m\n",
      "\u001b[1;31mFatalTraCIError\u001b[0m: Not connected."
     ]
    }
   ],
   "source": [
    "traci.close()"
   ]
  },
  {
   "cell_type": "code",
   "execution_count": null,
   "metadata": {},
   "outputs": [],
   "source": [
    "def get_veh_info(veh_id):\n",
    "    # get pos,speed,and acc of the veh_id\n",
    "    longitudinal_pos= traci.vehicle.getPosition(veh_id)[0]\n",
    "    speed = traci.vehicle.getSpeed(veh_id)\n",
    "    acc = traci.vehicle.getAcceleration(veh_id)\n",
    "    return longitudinal_pos, speed, acc"
   ]
  },
  {
   "cell_type": "code",
   "execution_count": null,
   "metadata": {},
   "outputs": [],
   "source": [
    "def get_speed_free_driving(veh_id, max_speed):\n",
    "    # predict the speed of next timestep by free driving\n",
    "    ego_pos,ego_speed,ego_acc = get_veh_info(veh_id)\n",
    "    if ego_speed<max_speed:\n",
    "        acc = 2\n",
    "    else:\n",
    "        acc = -2\n",
    "    ego_next_speed = ego_speed + acc\n",
    "    return ego_next_speed"
   ]
  },
  {
   "cell_type": "code",
   "execution_count": null,
   "metadata": {},
   "outputs": [],
   "source": [
    "def get_speed_cacc(veh_id):\n",
    "    # predict the speed of next timestep by CACC mode\n",
    "    ego_pos,ego_speed,ego_acc = get_veh_info(veh_id)\n",
    "    leader_veh_id,_ = traci.vehicle.getLeader(veh_id,dist=50)\n",
    "    leader_pos,leader_speed,leader_acc = get_veh_info(leader_veh_id)\n",
    "    leader_length = traci.vehicle.getLength(leader_veh_id)\n",
    "    distance_to_leader_veh = leader_pos-ego_pos\n",
    "    net_distance_to_lead_vehicle = distance_to_leader_veh - leader_length\n",
    "    # configure the parameters of CACC\n",
    "    coef_acc = 1.0\n",
    "    coef_speed = 0.58\n",
    "    coef_distance = 0.1\n",
    "    standstill = 4.0\n",
    "    headway_for_CACC = 1.0\n",
    "    reference_distance = max(standstill, headway_for_CACC * ego_speed)\n",
    "    acc = coef_acc*leader_acc + coef_speed*(leader_speed-ego_speed) + coef_distance*(net_distance_to_lead_vehicle-reference_distance)\n",
    "    ego_next_speed = ego_speed + acc\n",
    "    return ego_next_speed\n"
   ]
  },
  {
   "cell_type": "code",
   "execution_count": 5,
   "metadata": {},
   "outputs": [
    {
     "name": "stdout",
     "output_type": "stream",
     "text": [
      " Retrying in 1 seconds\n"
     ]
    },
    {
     "name": "stderr",
     "output_type": "stream",
     "text": [
      "C:\\Program Files (x86)\\Eclipse\\Sumo\\tools\\traci\\main.py:162: UserWarning: Could not connect to TraCI server using port 53206. Retrying with different port.\n",
      "  warnings.warn(\"Could not connect to TraCI server using port %s. Retrying with different port.\" % sumoPort)\n"
     ]
    },
    {
     "name": "stdout",
     "output_type": "stream",
     "text": [
      " Retrying in 1 seconds\n"
     ]
    },
    {
     "name": "stderr",
     "output_type": "stream",
     "text": [
      "C:\\Program Files (x86)\\Eclipse\\Sumo\\tools\\traci\\main.py:162: UserWarning: Could not connect to TraCI server using port 53209. Retrying with different port.\n",
      "  warnings.warn(\"Could not connect to TraCI server using port %s. Retrying with different port.\" % sumoPort)\n"
     ]
    },
    {
     "name": "stdout",
     "output_type": "stream",
     "text": [
      " Retrying in 1 seconds\n"
     ]
    },
    {
     "name": "stderr",
     "output_type": "stream",
     "text": [
      "C:\\Program Files (x86)\\Eclipse\\Sumo\\tools\\traci\\main.py:162: UserWarning: Could not connect to TraCI server using port 53212. Retrying with different port.\n",
      "  warnings.warn(\"Could not connect to TraCI server using port %s. Retrying with different port.\" % sumoPort)\n"
     ]
    },
    {
     "name": "stdout",
     "output_type": "stream",
     "text": [
      " Retrying in 1 seconds\n"
     ]
    },
    {
     "name": "stderr",
     "output_type": "stream",
     "text": [
      "C:\\Program Files (x86)\\Eclipse\\Sumo\\tools\\traci\\main.py:162: UserWarning: Could not connect to TraCI server using port 53216. Retrying with different port.\n",
      "  warnings.warn(\"Could not connect to TraCI server using port %s. Retrying with different port.\" % sumoPort)\n"
     ]
    },
    {
     "name": "stdout",
     "output_type": "stream",
     "text": [
      " Retrying in 1 seconds\n"
     ]
    },
    {
     "name": "stderr",
     "output_type": "stream",
     "text": [
      "C:\\Program Files (x86)\\Eclipse\\Sumo\\tools\\traci\\main.py:162: UserWarning: Could not connect to TraCI server using port 53220. Retrying with different port.\n",
      "  warnings.warn(\"Could not connect to TraCI server using port %s. Retrying with different port.\" % sumoPort)\n"
     ]
    },
    {
     "ename": "KeyboardInterrupt",
     "evalue": "",
     "output_type": "error",
     "traceback": [
      "\u001b[1;31m---------------------------------------------------------------------------\u001b[0m",
      "\u001b[1;31mConnectionRefusedError\u001b[0m                    Traceback (most recent call last)",
      "\u001b[1;32mC:\\Program Files (x86)\\Eclipse\\Sumo\\tools\\traci\\main.py\u001b[0m in \u001b[0;36mconnect\u001b[1;34m(port, numRetries, host, proc, waitBetweenRetries)\u001b[0m\n\u001b[0;32m    114\u001b[0m         \u001b[1;32mtry\u001b[0m\u001b[1;33m:\u001b[0m\u001b[1;33m\u001b[0m\u001b[1;33m\u001b[0m\u001b[0m\n\u001b[1;32m--> 115\u001b[1;33m             \u001b[0mconn\u001b[0m \u001b[1;33m=\u001b[0m \u001b[0mConnection\u001b[0m\u001b[1;33m(\u001b[0m\u001b[0mhost\u001b[0m\u001b[1;33m,\u001b[0m \u001b[0mport\u001b[0m\u001b[1;33m,\u001b[0m \u001b[0mproc\u001b[0m\u001b[1;33m)\u001b[0m\u001b[1;33m\u001b[0m\u001b[1;33m\u001b[0m\u001b[0m\n\u001b[0m\u001b[0;32m    116\u001b[0m             \u001b[1;32mif\u001b[0m \u001b[0m_connectHook\u001b[0m \u001b[1;32mis\u001b[0m \u001b[1;32mnot\u001b[0m \u001b[1;32mNone\u001b[0m\u001b[1;33m:\u001b[0m\u001b[1;33m\u001b[0m\u001b[1;33m\u001b[0m\u001b[0m\n",
      "\u001b[1;32mC:\\Program Files (x86)\\Eclipse\\Sumo\\tools\\traci\\connection.py\u001b[0m in \u001b[0;36m__init__\u001b[1;34m(self, host, port, process)\u001b[0m\n\u001b[0;32m     50\u001b[0m         \u001b[0mself\u001b[0m\u001b[1;33m.\u001b[0m\u001b[0m_socket\u001b[0m\u001b[1;33m.\u001b[0m\u001b[0msetsockopt\u001b[0m\u001b[1;33m(\u001b[0m\u001b[0msocket\u001b[0m\u001b[1;33m.\u001b[0m\u001b[0mIPPROTO_TCP\u001b[0m\u001b[1;33m,\u001b[0m \u001b[0msocket\u001b[0m\u001b[1;33m.\u001b[0m\u001b[0mTCP_NODELAY\u001b[0m\u001b[1;33m,\u001b[0m \u001b[1;36m1\u001b[0m\u001b[1;33m)\u001b[0m\u001b[1;33m\u001b[0m\u001b[1;33m\u001b[0m\u001b[0m\n\u001b[1;32m---> 51\u001b[1;33m         \u001b[0mself\u001b[0m\u001b[1;33m.\u001b[0m\u001b[0m_socket\u001b[0m\u001b[1;33m.\u001b[0m\u001b[0mconnect\u001b[0m\u001b[1;33m(\u001b[0m\u001b[1;33m(\u001b[0m\u001b[0mhost\u001b[0m\u001b[1;33m,\u001b[0m \u001b[0mport\u001b[0m\u001b[1;33m)\u001b[0m\u001b[1;33m)\u001b[0m\u001b[1;33m\u001b[0m\u001b[1;33m\u001b[0m\u001b[0m\n\u001b[0m\u001b[0;32m     52\u001b[0m         \u001b[0mself\u001b[0m\u001b[1;33m.\u001b[0m\u001b[0m_process\u001b[0m \u001b[1;33m=\u001b[0m \u001b[0mprocess\u001b[0m\u001b[1;33m\u001b[0m\u001b[1;33m\u001b[0m\u001b[0m\n",
      "\u001b[1;31mConnectionRefusedError\u001b[0m: [WinError 10061] No connection could be made because the target machine actively refused it",
      "\nDuring handling of the above exception, another exception occurred:\n",
      "\u001b[1;31mKeyboardInterrupt\u001b[0m                         Traceback (most recent call last)",
      "\u001b[1;32m<ipython-input-5-c5e009f308dd>\u001b[0m in \u001b[0;36m<module>\u001b[1;34m\u001b[0m\n\u001b[0;32m      3\u001b[0m \u001b[0mdata\u001b[0m \u001b[1;33m=\u001b[0m \u001b[1;33m[\u001b[0m\u001b[1;33m]\u001b[0m\u001b[1;33m\u001b[0m\u001b[1;33m\u001b[0m\u001b[0m\n\u001b[0;32m      4\u001b[0m \u001b[1;31m# speed_profile_leader = import_HighD._speed_profile(10000)\u001b[0m\u001b[1;33m\u001b[0m\u001b[1;33m\u001b[0m\u001b[1;33m\u001b[0m\u001b[0m\n\u001b[1;32m----> 5\u001b[1;33m \u001b[0mtraci\u001b[0m\u001b[1;33m.\u001b[0m\u001b[0mstart\u001b[0m\u001b[1;33m(\u001b[0m\u001b[1;33m[\u001b[0m\u001b[0msumoBinary\u001b[0m\u001b[1;33m,\u001b[0m \u001b[1;34m\"-c\"\u001b[0m\u001b[1;33m,\u001b[0m \u001b[1;34m\"singlelink100.sumocfg.xml\"\u001b[0m\u001b[1;33m,\u001b[0m\u001b[1;34m\"--collision.action\"\u001b[0m\u001b[1;33m,\u001b[0m\u001b[1;34m\"none\"\u001b[0m\u001b[1;33m,\u001b[0m\u001b[1;34m\"--device.emissions.probability\"\u001b[0m\u001b[1;33m,\u001b[0m\u001b[1;34m\"1.0\"\u001b[0m\u001b[1;33m,\u001b[0m\u001b[1;34m\"--tripinfo-output\"\u001b[0m\u001b[1;33m,\u001b[0m\u001b[1;34m\"emission_output\"\u001b[0m\u001b[1;33m]\u001b[0m\u001b[1;33m)\u001b[0m\u001b[1;33m\u001b[0m\u001b[1;33m\u001b[0m\u001b[0m\n\u001b[0m\u001b[0;32m      6\u001b[0m \u001b[1;31m# traci.start(sumoCmd)\u001b[0m\u001b[1;33m\u001b[0m\u001b[1;33m\u001b[0m\u001b[1;33m\u001b[0m\u001b[0m\n\u001b[0;32m      7\u001b[0m \u001b[0mstep\u001b[0m \u001b[1;33m=\u001b[0m \u001b[1;36m0\u001b[0m\u001b[1;33m\u001b[0m\u001b[1;33m\u001b[0m\u001b[0m\n",
      "\u001b[1;32mC:\\Program Files (x86)\\Eclipse\\Sumo\\tools\\traci\\main.py\u001b[0m in \u001b[0;36mstart\u001b[1;34m(cmd, port, numRetries, label, verbose, traceFile, traceGetters, stdout)\u001b[0m\n\u001b[0;32m    156\u001b[0m         \u001b[0msumoProcess\u001b[0m \u001b[1;33m=\u001b[0m \u001b[0msubprocess\u001b[0m\u001b[1;33m.\u001b[0m\u001b[0mPopen\u001b[0m\u001b[1;33m(\u001b[0m\u001b[0mcmd2\u001b[0m\u001b[1;33m,\u001b[0m \u001b[0mstdout\u001b[0m\u001b[1;33m=\u001b[0m\u001b[0mstdout\u001b[0m\u001b[1;33m)\u001b[0m\u001b[1;33m\u001b[0m\u001b[1;33m\u001b[0m\u001b[0m\n\u001b[0;32m    157\u001b[0m         \u001b[1;32mtry\u001b[0m\u001b[1;33m:\u001b[0m\u001b[1;33m\u001b[0m\u001b[1;33m\u001b[0m\u001b[0m\n\u001b[1;32m--> 158\u001b[1;33m             \u001b[1;32mreturn\u001b[0m \u001b[0minit\u001b[0m\u001b[1;33m(\u001b[0m\u001b[0msumoPort\u001b[0m\u001b[1;33m,\u001b[0m \u001b[0mnumRetries\u001b[0m\u001b[1;33m,\u001b[0m \u001b[1;34m\"localhost\"\u001b[0m\u001b[1;33m,\u001b[0m \u001b[0mlabel\u001b[0m\u001b[1;33m,\u001b[0m \u001b[0msumoProcess\u001b[0m\u001b[1;33m)\u001b[0m\u001b[1;33m\u001b[0m\u001b[1;33m\u001b[0m\u001b[0m\n\u001b[0m\u001b[0;32m    159\u001b[0m         \u001b[1;32mexcept\u001b[0m \u001b[0mTraCIException\u001b[0m\u001b[1;33m:\u001b[0m\u001b[1;33m\u001b[0m\u001b[1;33m\u001b[0m\u001b[0m\n\u001b[0;32m    160\u001b[0m             \u001b[1;32mif\u001b[0m \u001b[0mport\u001b[0m \u001b[1;32mis\u001b[0m \u001b[1;32mnot\u001b[0m \u001b[1;32mNone\u001b[0m\u001b[1;33m:\u001b[0m\u001b[1;33m\u001b[0m\u001b[1;33m\u001b[0m\u001b[0m\n",
      "\u001b[1;32mC:\\Program Files (x86)\\Eclipse\\Sumo\\tools\\traci\\main.py\u001b[0m in \u001b[0;36minit\u001b[1;34m(port, numRetries, host, label, proc)\u001b[0m\n\u001b[0;32m    134\u001b[0m     \u001b[0mpool\u001b[0m \u001b[0mconcurrently\u001b[0m\u001b[1;33m.\u001b[0m\u001b[1;33m\u001b[0m\u001b[1;33m\u001b[0m\u001b[0m\n\u001b[0;32m    135\u001b[0m     \"\"\"\n\u001b[1;32m--> 136\u001b[1;33m     \u001b[0m_connections\u001b[0m\u001b[1;33m[\u001b[0m\u001b[0mlabel\u001b[0m\u001b[1;33m]\u001b[0m \u001b[1;33m=\u001b[0m \u001b[0mconnect\u001b[0m\u001b[1;33m(\u001b[0m\u001b[0mport\u001b[0m\u001b[1;33m,\u001b[0m \u001b[0mnumRetries\u001b[0m\u001b[1;33m,\u001b[0m \u001b[0mhost\u001b[0m\u001b[1;33m,\u001b[0m \u001b[0mproc\u001b[0m\u001b[1;33m)\u001b[0m\u001b[1;33m\u001b[0m\u001b[1;33m\u001b[0m\u001b[0m\n\u001b[0m\u001b[0;32m    137\u001b[0m     \u001b[0mswitch\u001b[0m\u001b[1;33m(\u001b[0m\u001b[0mlabel\u001b[0m\u001b[1;33m)\u001b[0m\u001b[1;33m\u001b[0m\u001b[1;33m\u001b[0m\u001b[0m\n\u001b[0;32m    138\u001b[0m     \u001b[1;32mreturn\u001b[0m \u001b[0mgetVersion\u001b[0m\u001b[1;33m(\u001b[0m\u001b[1;33m)\u001b[0m\u001b[1;33m\u001b[0m\u001b[1;33m\u001b[0m\u001b[0m\n",
      "\u001b[1;32mC:\\Program Files (x86)\\Eclipse\\Sumo\\tools\\traci\\main.py\u001b[0m in \u001b[0;36mconnect\u001b[1;34m(port, numRetries, host, proc, waitBetweenRetries)\u001b[0m\n\u001b[0;32m    113\u001b[0m     \u001b[1;32mfor\u001b[0m \u001b[0mretry\u001b[0m \u001b[1;32min\u001b[0m \u001b[0mrange\u001b[0m\u001b[1;33m(\u001b[0m\u001b[1;36m1\u001b[0m\u001b[1;33m,\u001b[0m \u001b[0mnumRetries\u001b[0m \u001b[1;33m+\u001b[0m \u001b[1;36m2\u001b[0m\u001b[1;33m)\u001b[0m\u001b[1;33m:\u001b[0m\u001b[1;33m\u001b[0m\u001b[1;33m\u001b[0m\u001b[0m\n\u001b[0;32m    114\u001b[0m         \u001b[1;32mtry\u001b[0m\u001b[1;33m:\u001b[0m\u001b[1;33m\u001b[0m\u001b[1;33m\u001b[0m\u001b[0m\n\u001b[1;32m--> 115\u001b[1;33m             \u001b[0mconn\u001b[0m \u001b[1;33m=\u001b[0m \u001b[0mConnection\u001b[0m\u001b[1;33m(\u001b[0m\u001b[0mhost\u001b[0m\u001b[1;33m,\u001b[0m \u001b[0mport\u001b[0m\u001b[1;33m,\u001b[0m \u001b[0mproc\u001b[0m\u001b[1;33m)\u001b[0m\u001b[1;33m\u001b[0m\u001b[1;33m\u001b[0m\u001b[0m\n\u001b[0m\u001b[0;32m    116\u001b[0m             \u001b[1;32mif\u001b[0m \u001b[0m_connectHook\u001b[0m \u001b[1;32mis\u001b[0m \u001b[1;32mnot\u001b[0m \u001b[1;32mNone\u001b[0m\u001b[1;33m:\u001b[0m\u001b[1;33m\u001b[0m\u001b[1;33m\u001b[0m\u001b[0m\n\u001b[0;32m    117\u001b[0m                 \u001b[0m_connectHook\u001b[0m\u001b[1;33m(\u001b[0m\u001b[0mconn\u001b[0m\u001b[1;33m)\u001b[0m\u001b[1;33m\u001b[0m\u001b[1;33m\u001b[0m\u001b[0m\n",
      "\u001b[1;31mKeyboardInterrupt\u001b[0m: "
     ]
    }
   ],
   "source": [
    "save_simulation_data = True\n",
    "output_path = 'simulation_data_cacc100.csv'\n",
    "data = []\n",
    "# speed_profile_leader = import_HighD._speed_profile(10000)\n",
    "traci.start([sumoBinary, \"-c\", \"singlelink100.sumocfg.xml\",\"--collision.action\",\"none\",\"--device.emissions.probability\",\"1.0\",\"--tripinfo-output\",\"emission_output\"])\n",
    "# traci.start(sumoCmd)\n",
    "step = 0\n",
    "\n",
    "# subscribe all vehicles\n",
    "while True:\n",
    "    traci.simulationStep()\n",
    "    step += 1\n",
    "    if '199' in traci.simulation.getDepartedIDList():\n",
    "        for i in range(200):\n",
    "            traci.vehicle.subscribe(str(i), varIDs=(tc.VAR_DISTANCE, tc.VAR_SPEED, tc.VAR_ACCELERATION))\n",
    "        traci.simulationStep()\n",
    "        step += 1\n",
    "        break\n",
    "        \n",
    "# start to implement control logic        \n",
    "while traci.simulation.getMinExpectedNumber() > 0:\n",
    "    traci.simulationStep()\n",
    "    veh_ids = traci.vehicle.getIDList()\n",
    "    for veh_id in veh_ids:\n",
    "        # for CACC \n",
    "        if (((int(veh_id)-1)%3==0)and(int(veh_id)<100)):\n",
    "#         # select every 2 out of 3 consecutive vehicles to execute CACC\n",
    "#        if veh_id=='1':\n",
    "            traci.vehicle.setColor(veh_id,(155,255,0))\n",
    "            #traci.vehicle.subscribe(str(veh_id), varIDs=(tc.VAR_DISTANCE, tc.VAR_SPEED, tc.VAR_ACCELERATION))\n",
    "            leader_info = traci.vehicle.getLeader(veh_id,dist=50) \n",
    "            if not leader_info:\n",
    "                # if there is no vehicle ahead, do free-driving\n",
    "                # ego_next_speed = get_speed_free_driving(veh_id,50)\n",
    "                control = None\n",
    "            else:\n",
    "                # if there is a vehicle ahead \n",
    "                leader_veh_id,_ = leader_info\n",
    "                ego_next_speed = get_speed_cacc(veh_id)\n",
    "                traci.vehicle.setSpeed(veh_id,ego_next_speed)\n",
    "        # for the lead vehicle\n",
    "        if veh_id=='0':\n",
    "            traci.vehicle.setSpeed(veh_id,speed_profile_leader[step])\n",
    "        if veh_id=='100':\n",
    "            traci.vehicle.setSpeed(veh_id,speed_profile_leader[step])\n",
    "    # save to simulation data to file        \n",
    "    if save_simulation_data and '0' in veh_ids:\n",
    "        state = traci.vehicle.getAllSubscriptionResults()\n",
    "        positions = [state[str(veh_id)][tc.VAR_DISTANCE] for veh_id in range(200)]\n",
    "        speeds = [state[str(veh_id)][tc.VAR_SPEED] for veh_id in range(200)]\n",
    "        accelerations = [state[str(veh_id)][tc.VAR_ACCELERATION] for veh_id in range(200)]\n",
    "        fuel = [traci.vehicle.getFuelConsumption(str(veh_id)) for veh_id in range(200)]\n",
    "        co2 = [traci.vehicle.getCO2Emission(str(veh_id)) for veh_id in range(200)]\n",
    "        co = [traci.vehicle.getCOEmission(str(veh_id)) for veh_id in range(200)]\n",
    "        hc = [traci.vehicle.getHCEmission(str(veh_id)) for veh_id in range(200)]\n",
    "        pmx = [traci.vehicle.getPMxEmission(str(veh_id)) for veh_id in range(200)]\n",
    "        nox = [traci.vehicle.getNOxEmission(str(veh_id)) for veh_id in range(200)]\n",
    "        step_data = positions + speeds + accelerations +fuel + co2 + co + hc + pmx + nox\n",
    "        data.append(step_data)\n",
    "    step += 1\n",
    "\n",
    "\n",
    "\n",
    "if traci.simulation.getMinExpectedNumber() <= 0 and save_simulation_data:\n",
    "    position_name = ['pos_veh_{}'.format(veh_id) for veh_id in range(200)]\n",
    "    speed_name = ['spd_veh_{}'.format(veh_id) for veh_id in range(200)]\n",
    "    acceleration_name = ['acc_veh_{}'.format(veh_id) for veh_id in range(200)]\n",
    "    fuel_name = ['fuel_veh_{}'.format(veh_id) for veh_id in range(200)]\n",
    "    co2_name = ['co2_veh_{}'.format(veh_id) for veh_id in range(200)]\n",
    "    co_name = ['co_veh_{}'.format(veh_id) for veh_id in range(200)]\n",
    "    hc_name = ['hc_veh_{}'.format(veh_id) for veh_id in range(200)]\n",
    "    pmx_name = ['pmx_veh_{}'.format(veh_id) for veh_id in range(200)]\n",
    "    nox_name = ['nox_veh_{}'.format(veh_id) for veh_id in range(200)]\n",
    "    column_name = position_name + speed_name + acceleration_name + fuel_name + co2_name + co_name + hc_name + pmx_name + nox_name\n",
    "    df = pd.DataFrame(data,columns=column_name)\n",
    "    df.to_csv(output_path)\n",
    "traci.close()\n",
    "sys.stdout.flush()"
   ]
  },
  {
   "cell_type": "code",
   "execution_count": null,
   "metadata": {},
   "outputs": [],
   "source": [
    "os.system('sumo-gui -c singlelink.sumocfg.xml')"
   ]
  },
  {
   "cell_type": "code",
   "execution_count": null,
   "metadata": {},
   "outputs": [],
   "source": [
    "traci.start([sumoBinary, \"-c\", \"singlelink100.sumocfg.xml\",\"--collision.action\",\"none\",\"--device.emissions.probability\",\"1.0\",\"--tripinfo-output\",\"emission_output\"],label='1')"
   ]
  },
  {
   "cell_type": "code",
   "execution_count": null,
   "metadata": {},
   "outputs": [],
   "source": [
    "traci.getLabel()"
   ]
  },
  {
   "cell_type": "code",
   "execution_count": null,
   "metadata": {},
   "outputs": [],
   "source": [
    "a = traci.getConnection(label=\"1\")\n",
    "a"
   ]
  },
  {
   "cell_type": "code",
   "execution_count": null,
   "metadata": {},
   "outputs": [],
   "source": [
    "traci.close()"
   ]
  },
  {
   "cell_type": "code",
   "execution_count": null,
   "metadata": {},
   "outputs": [],
   "source": [
    "def check_mandatory_lc(veh_id):\n",
    "    # When the target vehicle is close to the merge point (with certain distance threshold) and it is on the closed lane, \n",
    "    # it would gain a motivation to do lane change before the merge point.\n",
    "    is_mandatory_lc = False\n",
    "    distance_threshold = 50 # check other people' choice\n",
    "    \n",
    "    return is_mandatory_lc\n",
    "\n",
    "def check_discrete_lc():\n",
    "    # When the target vehicle is been slowed down to a level he could not tolerante and he observed a better utility in ajascent lane,\n",
    "    # he would gain a motivation to do a lane change as long as such utility gap exists.\n",
    "    is_discrete_lc = False\n",
    "    return is_discrete_lc\n",
    "def check_lc_incentive():\n",
    "    has_incentive = False\n",
    "    if check_mandatory_lc() or check_discrete_lc():\n",
    "        has_incentive = True\n",
    "    return has_incentive"
   ]
  },
  {
   "cell_type": "code",
   "execution_count": null,
   "metadata": {},
   "outputs": [],
   "source": []
  },
  {
   "cell_type": "code",
   "execution_count": null,
   "metadata": {},
   "outputs": [],
   "source": []
  }
 ],
 "metadata": {
  "kernelspec": {
   "display_name": "Python 3",
   "language": "python",
   "name": "python3"
  },
  "language_info": {
   "codemirror_mode": {
    "name": "ipython",
    "version": 3
   },
   "file_extension": ".py",
   "mimetype": "text/x-python",
   "name": "python",
   "nbconvert_exporter": "python",
   "pygments_lexer": "ipython3",
   "version": "3.7.2"
  },
  "varInspector": {
   "cols": {
    "lenName": 16,
    "lenType": 16,
    "lenVar": 40
   },
   "kernels_config": {
    "python": {
     "delete_cmd_postfix": "",
     "delete_cmd_prefix": "del ",
     "library": "var_list.py",
     "varRefreshCmd": "print(var_dic_list())"
    },
    "r": {
     "delete_cmd_postfix": ") ",
     "delete_cmd_prefix": "rm(",
     "library": "var_list.r",
     "varRefreshCmd": "cat(var_dic_list()) "
    }
   },
   "types_to_exclude": [
    "module",
    "function",
    "builtin_function_or_method",
    "instance",
    "_Feature"
   ],
   "window_display": false
  }
 },
 "nbformat": 4,
 "nbformat_minor": 4
}
